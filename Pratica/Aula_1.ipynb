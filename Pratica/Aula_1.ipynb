{
  "nbformat": 4,
  "nbformat_minor": 0,
  "metadata": {
    "colab": {
      "provenance": [],
      "toc_visible": true,
      "include_colab_link": true
    },
    "kernelspec": {
      "name": "python3",
      "display_name": "Python 3"
    },
    "language_info": {
      "name": "python"
    }
  },
  "cells": [
    {
      "cell_type": "markdown",
      "metadata": {
        "id": "view-in-github",
        "colab_type": "text"
      },
      "source": [
        "<a href=\"https://colab.research.google.com/github/Gus-1003/ISD_psb20232/blob/main/Pratica/Aula_1.ipynb\" target=\"_parent\"><img src=\"https://colab.research.google.com/assets/colab-badge.svg\" alt=\"Open In Colab\"/></a>"
      ]
    },
    {
      "cell_type": "markdown",
      "source": [
        "# Processamento de um sinal de EMG"
      ],
      "metadata": {
        "id": "Njyc7prdzsmW"
      }
    },
    {
      "cell_type": "markdown",
      "source": [
        "## Baixando os dados:"
      ],
      "metadata": {
        "id": "m1scu5Q-tMIT"
      }
    },
    {
      "cell_type": "code",
      "execution_count": 30,
      "metadata": {
        "colab": {
          "base_uri": "https://localhost:8080/"
        },
        "id": "nfd9z2kVvGIX",
        "outputId": "2fae735f-7a82-4673-92ff-ede1634a81cd"
      },
      "outputs": [
        {
          "output_type": "stream",
          "name": "stdout",
          "text": [
            "Downloading...\n",
            "From: https://drive.google.com/uc?id=1pjfYQR1r0OxwnxjW1VktjWouzJeP8Hbt\n",
            "To: /content/EMG_example.csv\n",
            "\r  0% 0.00/9.48M [00:00<?, ?B/s]\r100% 9.48M/9.48M [00:00<00:00, 202MB/s]\n"
          ]
        }
      ],
      "source": [
        "# Se offline, comentar esta célula\n",
        "!gdown '1pjfYQR1r0OxwnxjW1VktjWouzJeP8Hbt'"
      ]
    },
    {
      "cell_type": "code",
      "source": [
        "#@title Bibliotecas e módulos necessários\n",
        "\n",
        "import numpy as np # Álgebra\n",
        "import pandas as pd # Manipulação de dados\n",
        "import matplotlib.pyplot as plt # Visualização de dados\n",
        "\n",
        "from scipy.signal import butter,cheby1,bessel,ellip,iirnotch,filtfilt # Filtros\n",
        "from scipy.signal import welch # PSD do sinal"
      ],
      "metadata": {
        "id": "JK1kjhC9veQh"
      },
      "execution_count": 31,
      "outputs": []
    },
    {
      "cell_type": "markdown",
      "source": [
        "Este arquivo .csv contém os dados crus de EMG de uma coleta feita semestre passado. A coleta foi feita utilizando um V-Amp de 2 canais e o dataset original também tem 16 canais de EEG, mas vamos ficar apenas no EMG por agora.\n",
        "\n",
        "**[Pergunta:] o que o parâmetro *sep* nos diz sobre o arquivo carregado?**\n",
        "\n",
        "R.: Character or regex pattern to treat as the delimiter."
      ],
      "metadata": {
        "id": "L8I-6YtJ7Hit"
      }
    },
    {
      "cell_type": "markdown",
      "source": [
        "## Análise Exploratoria:"
      ],
      "metadata": {
        "id": "b1w9oiiBu8Ty"
      }
    },
    {
      "cell_type": "code",
      "source": [
        "df_EMG = pd.read_csv('EMG_example.csv', sep=';')\n",
        "df_EMG"
      ],
      "metadata": {
        "id": "YeK0C1u0mSXJ",
        "colab": {
          "base_uri": "https://localhost:8080/",
          "height": 419
        },
        "outputId": "4b31c675-4869-4c8f-b3f2-5c0e67dcd79e"
      },
      "execution_count": 32,
      "outputs": [
        {
          "output_type": "execute_result",
          "data": {
            "text/plain": [
              "           time[s]         EMG 1         EMG 2 Event id\n",
              "0         0.000000 -43454.152344 -24474.855469       RL\n",
              "1         0.001953 -43479.835938 -24485.597656      NaN\n",
              "2         0.003906 -43466.605469 -24482.277344      NaN\n",
              "3         0.005859 -43462.601562 -24485.451172      NaN\n",
              "4         0.007812 -43460.988281 -24488.380859      NaN\n",
              "...            ...           ...           ...      ...\n",
              "196283  383.365234   5079.980957  -3897.900635      NaN\n",
              "196284  383.367188   5086.914551  -3877.002197      NaN\n",
              "196285  383.369141   5075.391113  -3879.541260      NaN\n",
              "196286  383.371094   5075.732910  -3876.611572      NaN\n",
              "196287  383.373047   5075.732910  -3876.611572      NaN\n",
              "\n",
              "[196288 rows x 4 columns]"
            ],
            "text/html": [
              "\n",
              "  <div id=\"df-2f887114-0b92-42d0-9d28-85556ab5fc76\" class=\"colab-df-container\">\n",
              "    <div>\n",
              "<style scoped>\n",
              "    .dataframe tbody tr th:only-of-type {\n",
              "        vertical-align: middle;\n",
              "    }\n",
              "\n",
              "    .dataframe tbody tr th {\n",
              "        vertical-align: top;\n",
              "    }\n",
              "\n",
              "    .dataframe thead th {\n",
              "        text-align: right;\n",
              "    }\n",
              "</style>\n",
              "<table border=\"1\" class=\"dataframe\">\n",
              "  <thead>\n",
              "    <tr style=\"text-align: right;\">\n",
              "      <th></th>\n",
              "      <th>time[s]</th>\n",
              "      <th>EMG 1</th>\n",
              "      <th>EMG 2</th>\n",
              "      <th>Event id</th>\n",
              "    </tr>\n",
              "  </thead>\n",
              "  <tbody>\n",
              "    <tr>\n",
              "      <th>0</th>\n",
              "      <td>0.000000</td>\n",
              "      <td>-43454.152344</td>\n",
              "      <td>-24474.855469</td>\n",
              "      <td>RL</td>\n",
              "    </tr>\n",
              "    <tr>\n",
              "      <th>1</th>\n",
              "      <td>0.001953</td>\n",
              "      <td>-43479.835938</td>\n",
              "      <td>-24485.597656</td>\n",
              "      <td>NaN</td>\n",
              "    </tr>\n",
              "    <tr>\n",
              "      <th>2</th>\n",
              "      <td>0.003906</td>\n",
              "      <td>-43466.605469</td>\n",
              "      <td>-24482.277344</td>\n",
              "      <td>NaN</td>\n",
              "    </tr>\n",
              "    <tr>\n",
              "      <th>3</th>\n",
              "      <td>0.005859</td>\n",
              "      <td>-43462.601562</td>\n",
              "      <td>-24485.451172</td>\n",
              "      <td>NaN</td>\n",
              "    </tr>\n",
              "    <tr>\n",
              "      <th>4</th>\n",
              "      <td>0.007812</td>\n",
              "      <td>-43460.988281</td>\n",
              "      <td>-24488.380859</td>\n",
              "      <td>NaN</td>\n",
              "    </tr>\n",
              "    <tr>\n",
              "      <th>...</th>\n",
              "      <td>...</td>\n",
              "      <td>...</td>\n",
              "      <td>...</td>\n",
              "      <td>...</td>\n",
              "    </tr>\n",
              "    <tr>\n",
              "      <th>196283</th>\n",
              "      <td>383.365234</td>\n",
              "      <td>5079.980957</td>\n",
              "      <td>-3897.900635</td>\n",
              "      <td>NaN</td>\n",
              "    </tr>\n",
              "    <tr>\n",
              "      <th>196284</th>\n",
              "      <td>383.367188</td>\n",
              "      <td>5086.914551</td>\n",
              "      <td>-3877.002197</td>\n",
              "      <td>NaN</td>\n",
              "    </tr>\n",
              "    <tr>\n",
              "      <th>196285</th>\n",
              "      <td>383.369141</td>\n",
              "      <td>5075.391113</td>\n",
              "      <td>-3879.541260</td>\n",
              "      <td>NaN</td>\n",
              "    </tr>\n",
              "    <tr>\n",
              "      <th>196286</th>\n",
              "      <td>383.371094</td>\n",
              "      <td>5075.732910</td>\n",
              "      <td>-3876.611572</td>\n",
              "      <td>NaN</td>\n",
              "    </tr>\n",
              "    <tr>\n",
              "      <th>196287</th>\n",
              "      <td>383.373047</td>\n",
              "      <td>5075.732910</td>\n",
              "      <td>-3876.611572</td>\n",
              "      <td>NaN</td>\n",
              "    </tr>\n",
              "  </tbody>\n",
              "</table>\n",
              "<p>196288 rows × 4 columns</p>\n",
              "</div>\n",
              "    <div class=\"colab-df-buttons\">\n",
              "\n",
              "  <div class=\"colab-df-container\">\n",
              "    <button class=\"colab-df-convert\" onclick=\"convertToInteractive('df-2f887114-0b92-42d0-9d28-85556ab5fc76')\"\n",
              "            title=\"Convert this dataframe to an interactive table.\"\n",
              "            style=\"display:none;\">\n",
              "\n",
              "  <svg xmlns=\"http://www.w3.org/2000/svg\" height=\"24px\" viewBox=\"0 -960 960 960\">\n",
              "    <path d=\"M120-120v-720h720v720H120Zm60-500h600v-160H180v160Zm220 220h160v-160H400v160Zm0 220h160v-160H400v160ZM180-400h160v-160H180v160Zm440 0h160v-160H620v160ZM180-180h160v-160H180v160Zm440 0h160v-160H620v160Z\"/>\n",
              "  </svg>\n",
              "    </button>\n",
              "\n",
              "  <style>\n",
              "    .colab-df-container {\n",
              "      display:flex;\n",
              "      gap: 12px;\n",
              "    }\n",
              "\n",
              "    .colab-df-convert {\n",
              "      background-color: #E8F0FE;\n",
              "      border: none;\n",
              "      border-radius: 50%;\n",
              "      cursor: pointer;\n",
              "      display: none;\n",
              "      fill: #1967D2;\n",
              "      height: 32px;\n",
              "      padding: 0 0 0 0;\n",
              "      width: 32px;\n",
              "    }\n",
              "\n",
              "    .colab-df-convert:hover {\n",
              "      background-color: #E2EBFA;\n",
              "      box-shadow: 0px 1px 2px rgba(60, 64, 67, 0.3), 0px 1px 3px 1px rgba(60, 64, 67, 0.15);\n",
              "      fill: #174EA6;\n",
              "    }\n",
              "\n",
              "    .colab-df-buttons div {\n",
              "      margin-bottom: 4px;\n",
              "    }\n",
              "\n",
              "    [theme=dark] .colab-df-convert {\n",
              "      background-color: #3B4455;\n",
              "      fill: #D2E3FC;\n",
              "    }\n",
              "\n",
              "    [theme=dark] .colab-df-convert:hover {\n",
              "      background-color: #434B5C;\n",
              "      box-shadow: 0px 1px 3px 1px rgba(0, 0, 0, 0.15);\n",
              "      filter: drop-shadow(0px 1px 2px rgba(0, 0, 0, 0.3));\n",
              "      fill: #FFFFFF;\n",
              "    }\n",
              "  </style>\n",
              "\n",
              "    <script>\n",
              "      const buttonEl =\n",
              "        document.querySelector('#df-2f887114-0b92-42d0-9d28-85556ab5fc76 button.colab-df-convert');\n",
              "      buttonEl.style.display =\n",
              "        google.colab.kernel.accessAllowed ? 'block' : 'none';\n",
              "\n",
              "      async function convertToInteractive(key) {\n",
              "        const element = document.querySelector('#df-2f887114-0b92-42d0-9d28-85556ab5fc76');\n",
              "        const dataTable =\n",
              "          await google.colab.kernel.invokeFunction('convertToInteractive',\n",
              "                                                    [key], {});\n",
              "        if (!dataTable) return;\n",
              "\n",
              "        const docLinkHtml = 'Like what you see? Visit the ' +\n",
              "          '<a target=\"_blank\" href=https://colab.research.google.com/notebooks/data_table.ipynb>data table notebook</a>'\n",
              "          + ' to learn more about interactive tables.';\n",
              "        element.innerHTML = '';\n",
              "        dataTable['output_type'] = 'display_data';\n",
              "        await google.colab.output.renderOutput(dataTable, element);\n",
              "        const docLink = document.createElement('div');\n",
              "        docLink.innerHTML = docLinkHtml;\n",
              "        element.appendChild(docLink);\n",
              "      }\n",
              "    </script>\n",
              "  </div>\n",
              "\n",
              "\n",
              "<div id=\"df-9669bb75-0d0e-4269-99c5-e049f7f5d3f7\">\n",
              "  <button class=\"colab-df-quickchart\" onclick=\"quickchart('df-9669bb75-0d0e-4269-99c5-e049f7f5d3f7')\"\n",
              "            title=\"Suggest charts.\"\n",
              "            style=\"display:none;\">\n",
              "\n",
              "<svg xmlns=\"http://www.w3.org/2000/svg\" height=\"24px\"viewBox=\"0 0 24 24\"\n",
              "     width=\"24px\">\n",
              "    <g>\n",
              "        <path d=\"M19 3H5c-1.1 0-2 .9-2 2v14c0 1.1.9 2 2 2h14c1.1 0 2-.9 2-2V5c0-1.1-.9-2-2-2zM9 17H7v-7h2v7zm4 0h-2V7h2v10zm4 0h-2v-4h2v4z\"/>\n",
              "    </g>\n",
              "</svg>\n",
              "  </button>\n",
              "\n",
              "<style>\n",
              "  .colab-df-quickchart {\n",
              "      --bg-color: #E8F0FE;\n",
              "      --fill-color: #1967D2;\n",
              "      --hover-bg-color: #E2EBFA;\n",
              "      --hover-fill-color: #174EA6;\n",
              "      --disabled-fill-color: #AAA;\n",
              "      --disabled-bg-color: #DDD;\n",
              "  }\n",
              "\n",
              "  [theme=dark] .colab-df-quickchart {\n",
              "      --bg-color: #3B4455;\n",
              "      --fill-color: #D2E3FC;\n",
              "      --hover-bg-color: #434B5C;\n",
              "      --hover-fill-color: #FFFFFF;\n",
              "      --disabled-bg-color: #3B4455;\n",
              "      --disabled-fill-color: #666;\n",
              "  }\n",
              "\n",
              "  .colab-df-quickchart {\n",
              "    background-color: var(--bg-color);\n",
              "    border: none;\n",
              "    border-radius: 50%;\n",
              "    cursor: pointer;\n",
              "    display: none;\n",
              "    fill: var(--fill-color);\n",
              "    height: 32px;\n",
              "    padding: 0;\n",
              "    width: 32px;\n",
              "  }\n",
              "\n",
              "  .colab-df-quickchart:hover {\n",
              "    background-color: var(--hover-bg-color);\n",
              "    box-shadow: 0 1px 2px rgba(60, 64, 67, 0.3), 0 1px 3px 1px rgba(60, 64, 67, 0.15);\n",
              "    fill: var(--button-hover-fill-color);\n",
              "  }\n",
              "\n",
              "  .colab-df-quickchart-complete:disabled,\n",
              "  .colab-df-quickchart-complete:disabled:hover {\n",
              "    background-color: var(--disabled-bg-color);\n",
              "    fill: var(--disabled-fill-color);\n",
              "    box-shadow: none;\n",
              "  }\n",
              "\n",
              "  .colab-df-spinner {\n",
              "    border: 2px solid var(--fill-color);\n",
              "    border-color: transparent;\n",
              "    border-bottom-color: var(--fill-color);\n",
              "    animation:\n",
              "      spin 1s steps(1) infinite;\n",
              "  }\n",
              "\n",
              "  @keyframes spin {\n",
              "    0% {\n",
              "      border-color: transparent;\n",
              "      border-bottom-color: var(--fill-color);\n",
              "      border-left-color: var(--fill-color);\n",
              "    }\n",
              "    20% {\n",
              "      border-color: transparent;\n",
              "      border-left-color: var(--fill-color);\n",
              "      border-top-color: var(--fill-color);\n",
              "    }\n",
              "    30% {\n",
              "      border-color: transparent;\n",
              "      border-left-color: var(--fill-color);\n",
              "      border-top-color: var(--fill-color);\n",
              "      border-right-color: var(--fill-color);\n",
              "    }\n",
              "    40% {\n",
              "      border-color: transparent;\n",
              "      border-right-color: var(--fill-color);\n",
              "      border-top-color: var(--fill-color);\n",
              "    }\n",
              "    60% {\n",
              "      border-color: transparent;\n",
              "      border-right-color: var(--fill-color);\n",
              "    }\n",
              "    80% {\n",
              "      border-color: transparent;\n",
              "      border-right-color: var(--fill-color);\n",
              "      border-bottom-color: var(--fill-color);\n",
              "    }\n",
              "    90% {\n",
              "      border-color: transparent;\n",
              "      border-bottom-color: var(--fill-color);\n",
              "    }\n",
              "  }\n",
              "</style>\n",
              "\n",
              "  <script>\n",
              "    async function quickchart(key) {\n",
              "      const quickchartButtonEl =\n",
              "        document.querySelector('#' + key + ' button');\n",
              "      quickchartButtonEl.disabled = true;  // To prevent multiple clicks.\n",
              "      quickchartButtonEl.classList.add('colab-df-spinner');\n",
              "      try {\n",
              "        const charts = await google.colab.kernel.invokeFunction(\n",
              "            'suggestCharts', [key], {});\n",
              "      } catch (error) {\n",
              "        console.error('Error during call to suggestCharts:', error);\n",
              "      }\n",
              "      quickchartButtonEl.classList.remove('colab-df-spinner');\n",
              "      quickchartButtonEl.classList.add('colab-df-quickchart-complete');\n",
              "    }\n",
              "    (() => {\n",
              "      let quickchartButtonEl =\n",
              "        document.querySelector('#df-9669bb75-0d0e-4269-99c5-e049f7f5d3f7 button');\n",
              "      quickchartButtonEl.style.display =\n",
              "        google.colab.kernel.accessAllowed ? 'block' : 'none';\n",
              "    })();\n",
              "  </script>\n",
              "</div>\n",
              "    </div>\n",
              "  </div>\n"
            ]
          },
          "metadata": {},
          "execution_count": 32
        }
      ]
    },
    {
      "cell_type": "code",
      "source": [
        "df_EMG.head()"
      ],
      "metadata": {
        "colab": {
          "base_uri": "https://localhost:8080/",
          "height": 204
        },
        "id": "Ret9vGtMqd-h",
        "outputId": "859b492e-9cb3-4dc9-8640-64885d207b6f"
      },
      "execution_count": 33,
      "outputs": [
        {
          "output_type": "execute_result",
          "data": {
            "text/plain": [
              "    time[s]         EMG 1         EMG 2 Event id\n",
              "0  0.000000 -43454.152344 -24474.855469       RL\n",
              "1  0.001953 -43479.835938 -24485.597656      NaN\n",
              "2  0.003906 -43466.605469 -24482.277344      NaN\n",
              "3  0.005859 -43462.601562 -24485.451172      NaN\n",
              "4  0.007812 -43460.988281 -24488.380859      NaN"
            ],
            "text/html": [
              "\n",
              "  <div id=\"df-2fa4ca4e-d87b-478f-b24d-b4eb0a080034\" class=\"colab-df-container\">\n",
              "    <div>\n",
              "<style scoped>\n",
              "    .dataframe tbody tr th:only-of-type {\n",
              "        vertical-align: middle;\n",
              "    }\n",
              "\n",
              "    .dataframe tbody tr th {\n",
              "        vertical-align: top;\n",
              "    }\n",
              "\n",
              "    .dataframe thead th {\n",
              "        text-align: right;\n",
              "    }\n",
              "</style>\n",
              "<table border=\"1\" class=\"dataframe\">\n",
              "  <thead>\n",
              "    <tr style=\"text-align: right;\">\n",
              "      <th></th>\n",
              "      <th>time[s]</th>\n",
              "      <th>EMG 1</th>\n",
              "      <th>EMG 2</th>\n",
              "      <th>Event id</th>\n",
              "    </tr>\n",
              "  </thead>\n",
              "  <tbody>\n",
              "    <tr>\n",
              "      <th>0</th>\n",
              "      <td>0.000000</td>\n",
              "      <td>-43454.152344</td>\n",
              "      <td>-24474.855469</td>\n",
              "      <td>RL</td>\n",
              "    </tr>\n",
              "    <tr>\n",
              "      <th>1</th>\n",
              "      <td>0.001953</td>\n",
              "      <td>-43479.835938</td>\n",
              "      <td>-24485.597656</td>\n",
              "      <td>NaN</td>\n",
              "    </tr>\n",
              "    <tr>\n",
              "      <th>2</th>\n",
              "      <td>0.003906</td>\n",
              "      <td>-43466.605469</td>\n",
              "      <td>-24482.277344</td>\n",
              "      <td>NaN</td>\n",
              "    </tr>\n",
              "    <tr>\n",
              "      <th>3</th>\n",
              "      <td>0.005859</td>\n",
              "      <td>-43462.601562</td>\n",
              "      <td>-24485.451172</td>\n",
              "      <td>NaN</td>\n",
              "    </tr>\n",
              "    <tr>\n",
              "      <th>4</th>\n",
              "      <td>0.007812</td>\n",
              "      <td>-43460.988281</td>\n",
              "      <td>-24488.380859</td>\n",
              "      <td>NaN</td>\n",
              "    </tr>\n",
              "  </tbody>\n",
              "</table>\n",
              "</div>\n",
              "    <div class=\"colab-df-buttons\">\n",
              "\n",
              "  <div class=\"colab-df-container\">\n",
              "    <button class=\"colab-df-convert\" onclick=\"convertToInteractive('df-2fa4ca4e-d87b-478f-b24d-b4eb0a080034')\"\n",
              "            title=\"Convert this dataframe to an interactive table.\"\n",
              "            style=\"display:none;\">\n",
              "\n",
              "  <svg xmlns=\"http://www.w3.org/2000/svg\" height=\"24px\" viewBox=\"0 -960 960 960\">\n",
              "    <path d=\"M120-120v-720h720v720H120Zm60-500h600v-160H180v160Zm220 220h160v-160H400v160Zm0 220h160v-160H400v160ZM180-400h160v-160H180v160Zm440 0h160v-160H620v160ZM180-180h160v-160H180v160Zm440 0h160v-160H620v160Z\"/>\n",
              "  </svg>\n",
              "    </button>\n",
              "\n",
              "  <style>\n",
              "    .colab-df-container {\n",
              "      display:flex;\n",
              "      gap: 12px;\n",
              "    }\n",
              "\n",
              "    .colab-df-convert {\n",
              "      background-color: #E8F0FE;\n",
              "      border: none;\n",
              "      border-radius: 50%;\n",
              "      cursor: pointer;\n",
              "      display: none;\n",
              "      fill: #1967D2;\n",
              "      height: 32px;\n",
              "      padding: 0 0 0 0;\n",
              "      width: 32px;\n",
              "    }\n",
              "\n",
              "    .colab-df-convert:hover {\n",
              "      background-color: #E2EBFA;\n",
              "      box-shadow: 0px 1px 2px rgba(60, 64, 67, 0.3), 0px 1px 3px 1px rgba(60, 64, 67, 0.15);\n",
              "      fill: #174EA6;\n",
              "    }\n",
              "\n",
              "    .colab-df-buttons div {\n",
              "      margin-bottom: 4px;\n",
              "    }\n",
              "\n",
              "    [theme=dark] .colab-df-convert {\n",
              "      background-color: #3B4455;\n",
              "      fill: #D2E3FC;\n",
              "    }\n",
              "\n",
              "    [theme=dark] .colab-df-convert:hover {\n",
              "      background-color: #434B5C;\n",
              "      box-shadow: 0px 1px 3px 1px rgba(0, 0, 0, 0.15);\n",
              "      filter: drop-shadow(0px 1px 2px rgba(0, 0, 0, 0.3));\n",
              "      fill: #FFFFFF;\n",
              "    }\n",
              "  </style>\n",
              "\n",
              "    <script>\n",
              "      const buttonEl =\n",
              "        document.querySelector('#df-2fa4ca4e-d87b-478f-b24d-b4eb0a080034 button.colab-df-convert');\n",
              "      buttonEl.style.display =\n",
              "        google.colab.kernel.accessAllowed ? 'block' : 'none';\n",
              "\n",
              "      async function convertToInteractive(key) {\n",
              "        const element = document.querySelector('#df-2fa4ca4e-d87b-478f-b24d-b4eb0a080034');\n",
              "        const dataTable =\n",
              "          await google.colab.kernel.invokeFunction('convertToInteractive',\n",
              "                                                    [key], {});\n",
              "        if (!dataTable) return;\n",
              "\n",
              "        const docLinkHtml = 'Like what you see? Visit the ' +\n",
              "          '<a target=\"_blank\" href=https://colab.research.google.com/notebooks/data_table.ipynb>data table notebook</a>'\n",
              "          + ' to learn more about interactive tables.';\n",
              "        element.innerHTML = '';\n",
              "        dataTable['output_type'] = 'display_data';\n",
              "        await google.colab.output.renderOutput(dataTable, element);\n",
              "        const docLink = document.createElement('div');\n",
              "        docLink.innerHTML = docLinkHtml;\n",
              "        element.appendChild(docLink);\n",
              "      }\n",
              "    </script>\n",
              "  </div>\n",
              "\n",
              "\n",
              "<div id=\"df-da084cd9-f55d-41fd-aaaa-bf75547d01e0\">\n",
              "  <button class=\"colab-df-quickchart\" onclick=\"quickchart('df-da084cd9-f55d-41fd-aaaa-bf75547d01e0')\"\n",
              "            title=\"Suggest charts.\"\n",
              "            style=\"display:none;\">\n",
              "\n",
              "<svg xmlns=\"http://www.w3.org/2000/svg\" height=\"24px\"viewBox=\"0 0 24 24\"\n",
              "     width=\"24px\">\n",
              "    <g>\n",
              "        <path d=\"M19 3H5c-1.1 0-2 .9-2 2v14c0 1.1.9 2 2 2h14c1.1 0 2-.9 2-2V5c0-1.1-.9-2-2-2zM9 17H7v-7h2v7zm4 0h-2V7h2v10zm4 0h-2v-4h2v4z\"/>\n",
              "    </g>\n",
              "</svg>\n",
              "  </button>\n",
              "\n",
              "<style>\n",
              "  .colab-df-quickchart {\n",
              "      --bg-color: #E8F0FE;\n",
              "      --fill-color: #1967D2;\n",
              "      --hover-bg-color: #E2EBFA;\n",
              "      --hover-fill-color: #174EA6;\n",
              "      --disabled-fill-color: #AAA;\n",
              "      --disabled-bg-color: #DDD;\n",
              "  }\n",
              "\n",
              "  [theme=dark] .colab-df-quickchart {\n",
              "      --bg-color: #3B4455;\n",
              "      --fill-color: #D2E3FC;\n",
              "      --hover-bg-color: #434B5C;\n",
              "      --hover-fill-color: #FFFFFF;\n",
              "      --disabled-bg-color: #3B4455;\n",
              "      --disabled-fill-color: #666;\n",
              "  }\n",
              "\n",
              "  .colab-df-quickchart {\n",
              "    background-color: var(--bg-color);\n",
              "    border: none;\n",
              "    border-radius: 50%;\n",
              "    cursor: pointer;\n",
              "    display: none;\n",
              "    fill: var(--fill-color);\n",
              "    height: 32px;\n",
              "    padding: 0;\n",
              "    width: 32px;\n",
              "  }\n",
              "\n",
              "  .colab-df-quickchart:hover {\n",
              "    background-color: var(--hover-bg-color);\n",
              "    box-shadow: 0 1px 2px rgba(60, 64, 67, 0.3), 0 1px 3px 1px rgba(60, 64, 67, 0.15);\n",
              "    fill: var(--button-hover-fill-color);\n",
              "  }\n",
              "\n",
              "  .colab-df-quickchart-complete:disabled,\n",
              "  .colab-df-quickchart-complete:disabled:hover {\n",
              "    background-color: var(--disabled-bg-color);\n",
              "    fill: var(--disabled-fill-color);\n",
              "    box-shadow: none;\n",
              "  }\n",
              "\n",
              "  .colab-df-spinner {\n",
              "    border: 2px solid var(--fill-color);\n",
              "    border-color: transparent;\n",
              "    border-bottom-color: var(--fill-color);\n",
              "    animation:\n",
              "      spin 1s steps(1) infinite;\n",
              "  }\n",
              "\n",
              "  @keyframes spin {\n",
              "    0% {\n",
              "      border-color: transparent;\n",
              "      border-bottom-color: var(--fill-color);\n",
              "      border-left-color: var(--fill-color);\n",
              "    }\n",
              "    20% {\n",
              "      border-color: transparent;\n",
              "      border-left-color: var(--fill-color);\n",
              "      border-top-color: var(--fill-color);\n",
              "    }\n",
              "    30% {\n",
              "      border-color: transparent;\n",
              "      border-left-color: var(--fill-color);\n",
              "      border-top-color: var(--fill-color);\n",
              "      border-right-color: var(--fill-color);\n",
              "    }\n",
              "    40% {\n",
              "      border-color: transparent;\n",
              "      border-right-color: var(--fill-color);\n",
              "      border-top-color: var(--fill-color);\n",
              "    }\n",
              "    60% {\n",
              "      border-color: transparent;\n",
              "      border-right-color: var(--fill-color);\n",
              "    }\n",
              "    80% {\n",
              "      border-color: transparent;\n",
              "      border-right-color: var(--fill-color);\n",
              "      border-bottom-color: var(--fill-color);\n",
              "    }\n",
              "    90% {\n",
              "      border-color: transparent;\n",
              "      border-bottom-color: var(--fill-color);\n",
              "    }\n",
              "  }\n",
              "</style>\n",
              "\n",
              "  <script>\n",
              "    async function quickchart(key) {\n",
              "      const quickchartButtonEl =\n",
              "        document.querySelector('#' + key + ' button');\n",
              "      quickchartButtonEl.disabled = true;  // To prevent multiple clicks.\n",
              "      quickchartButtonEl.classList.add('colab-df-spinner');\n",
              "      try {\n",
              "        const charts = await google.colab.kernel.invokeFunction(\n",
              "            'suggestCharts', [key], {});\n",
              "      } catch (error) {\n",
              "        console.error('Error during call to suggestCharts:', error);\n",
              "      }\n",
              "      quickchartButtonEl.classList.remove('colab-df-spinner');\n",
              "      quickchartButtonEl.classList.add('colab-df-quickchart-complete');\n",
              "    }\n",
              "    (() => {\n",
              "      let quickchartButtonEl =\n",
              "        document.querySelector('#df-da084cd9-f55d-41fd-aaaa-bf75547d01e0 button');\n",
              "      quickchartButtonEl.style.display =\n",
              "        google.colab.kernel.accessAllowed ? 'block' : 'none';\n",
              "    })();\n",
              "  </script>\n",
              "</div>\n",
              "    </div>\n",
              "  </div>\n"
            ]
          },
          "metadata": {},
          "execution_count": 33
        }
      ]
    },
    {
      "cell_type": "markdown",
      "source": [
        "Como podem ver, o arquivo tem uma coluna de instante da amostra, 2 canais de EMG e uma coluna indicando eventos relacionados a coleta. Neste caso, os eventos são relacionados ao acionamento de um áudio indicando com qual pé começar um ciclo de marcha e se o ciclo deveria ser utilizando passos curtos ou longos.\n",
        "\n",
        "Podemos ver a lista completa de todos os valores contidos em *Event id*\n",
        " selecionando esta coluna (que agora é uma série por ser uma única coluna) e utilizando a função [*unique()*](https://pandas.pydata.org/docs/reference/api/pandas.Series.unique.html). Os valores numéricos não foram relevantes para o estudo (e nem serão para nós)."
      ],
      "metadata": {
        "id": "lotsY9qm-NIJ"
      }
    },
    {
      "cell_type": "code",
      "source": [
        "df_EMG['Event id'].unique()"
      ],
      "metadata": {
        "colab": {
          "base_uri": "https://localhost:8080/"
        },
        "id": "d4s8OYWhqiDn",
        "outputId": "63792732-6ed4-4951-a83a-401ac8d4805e"
      },
      "execution_count": 34,
      "outputs": [
        {
          "output_type": "execute_result",
          "data": {
            "text/plain": [
              "array(['RL', nan, 'Gait begin', 'Gait end', 'RS', 'LL', 'LS', '1010',\n",
              "       '33281'], dtype=object)"
            ]
          },
          "metadata": {},
          "execution_count": 34
        }
      ]
    },
    {
      "cell_type": "markdown",
      "source": [
        "A frequência de amostragem do V-Amp é de 512 Hz, então vamos salvar isso em uma variável com o nome muito criativo de *fs*\n",
        "\n",
        "---\n",
        "\n",
        "**[Exercício:] é possível obter o valor da frequência de amostragem diretamente da coluna *time[s]*. (Isso foi uma afirmação)**\n",
        "\n",
        "\n",
        "\n",
        "**Tente fazer isso. Caso esteja com muita dificuldade, os seguintes métodos podem te ajudar:**\n",
        "\n",
        "\n",
        "*   **[diff](https://pandas.pydata.org/docs/reference/api/pandas.DataFrame.diff.html)**\n",
        "*   **[mean](https://pandas.pydata.org/docs/reference/api/pandas.DataFrame.mean.html)**\n",
        "\n",
        "\n"
      ],
      "metadata": {
        "id": "f3823RTSAKAo"
      }
    },
    {
      "cell_type": "markdown",
      "source": [
        "## Aprendendo sobre Sinais:"
      ],
      "metadata": {
        "id": "4c2WiT8u0ixl"
      }
    },
    {
      "cell_type": "markdown",
      "source": [
        "### Frequência:"
      ],
      "metadata": {
        "id": "dyYHw_jZ0nWq"
      }
    },
    {
      "cell_type": "code",
      "source": [
        "# Calcule o período de amostragem\n",
        "periodo_amostragem = df_EMG['time[s]'][1] - df_EMG['time[s]'][0]\n",
        "\n",
        "# Calcule a frequência de amostragem\n",
        "fs = 1 / periodo_amostragem\n",
        "\n",
        "print(\"Frequência de Amostragem (Hz):\", fs)"
      ],
      "metadata": {
        "colab": {
          "base_uri": "https://localhost:8080/"
        },
        "id": "A7XPhZbgzROM",
        "outputId": "caa0bb4d-3ec2-4fa1-f935-39d85d7a8bbd"
      },
      "execution_count": 35,
      "outputs": [
        {
          "output_type": "stream",
          "name": "stdout",
          "text": [
            "Frequência de Amostragem (Hz): 512.0\n"
          ]
        }
      ]
    },
    {
      "cell_type": "code",
      "source": [
        "fs = 512"
      ],
      "metadata": {
        "id": "5s6X-rseqoCr"
      },
      "execution_count": 36,
      "outputs": []
    },
    {
      "cell_type": "markdown",
      "source": [
        "Com a frequência de amostragem salva numa variável, vamos repetir o processo salvando cada coluna em uma variável, mas convertendo antes a coluna de *Series* (coluna do pandas) para *numpy array* (vetor do numpy).\n",
        "\n",
        "No caso dos sinais de EMG, também foi adicionado a eles um ruído artificial para podermos visualizar a interferência do ruído no sinal."
      ],
      "metadata": {
        "id": "LWmx_upCCSGd"
      }
    },
    {
      "cell_type": "markdown",
      "source": [
        "### Fabricação de um Ruido Artificial:"
      ],
      "metadata": {
        "id": "HSE7sHoq1J0w"
      }
    },
    {
      "cell_type": "code",
      "source": [
        "time = df_EMG['time[s]'].to_numpy()\n",
        "time"
      ],
      "metadata": {
        "colab": {
          "base_uri": "https://localhost:8080/"
        },
        "id": "MpiJ9utgzh5F",
        "outputId": "a9017064-50ac-456a-a612-82f1a5dfd7d5"
      },
      "execution_count": 37,
      "outputs": [
        {
          "output_type": "execute_result",
          "data": {
            "text/plain": [
              "array([0.00000000e+00, 1.95312500e-03, 3.90625000e-03, ...,\n",
              "       3.83369141e+02, 3.83371094e+02, 3.83373047e+02])"
            ]
          },
          "metadata": {},
          "execution_count": 37
        }
      ]
    },
    {
      "cell_type": "code",
      "source": [
        "time = df_EMG['time[s]'].to_numpy()\n",
        "\n",
        "freq_noise = 60 # Frequência do ruído artificial\n",
        "\n",
        "artificial_noise = 5000*np.sin(2*np.pi*freq_noise*time) # Ruído artificial sendo\n",
        "                                                        # apenas uma senóide\n",
        "\n",
        "\n",
        "# Aplicação do ruido ao decorrer dos valores das colunas EMG 1 e EMG 2\n",
        "emg1 = df_EMG['EMG 1'].to_numpy()+artificial_noise\n",
        "emg2 = df_EMG['EMG 2'].to_numpy()+artificial_noise\n",
        "\n",
        "# Vetor dos Eventos que ocorreram ao decorrer do tempo\n",
        "events = df_EMG['Event id'].to_numpy()\n",
        "events"
      ],
      "metadata": {
        "id": "g97899mNq6DY",
        "colab": {
          "base_uri": "https://localhost:8080/"
        },
        "outputId": "f3357da2-fd9c-4cf1-d324-6eea2d05e6cd"
      },
      "execution_count": 46,
      "outputs": [
        {
          "output_type": "execute_result",
          "data": {
            "text/plain": [
              "array(['RL', nan, nan, ..., nan, nan, nan], dtype=object)"
            ]
          },
          "metadata": {},
          "execution_count": 46
        }
      ]
    },
    {
      "cell_type": "code",
      "source": [
        "artificial_noise"
      ],
      "metadata": {
        "colab": {
          "base_uri": "https://localhost:8080/"
        },
        "id": "cnb14HNjzq93",
        "outputId": "8cde1354-88f9-498b-d5b8-5f849e8707c0"
      },
      "execution_count": 47,
      "outputs": [
        {
          "output_type": "execute_result",
          "data": {
            "text/plain": [
              "array([   0.        , 3357.79477424, 4975.92363336, ..., 4016.03765732,\n",
              "       4975.92363337, 3357.79477433])"
            ]
          },
          "metadata": {},
          "execution_count": 47
        }
      ]
    },
    {
      "cell_type": "markdown",
      "source": [
        "### Busca por um Evento Especifico:"
      ],
      "metadata": {
        "id": "eQj77phH1QXu"
      }
    },
    {
      "cell_type": "markdown",
      "source": [
        "Caso venha a ser necessário selecionar apenas algum tipo de evento, podemos fazer isso utilizando a função [*argwhere*](https://numpy.org/doc/stable/reference/generated/numpy.argwhere.html) do [*numpy*](https://numpy.org/doc/stable/index.html)\n",
        "\n",
        "array(['RL', nan, 'Gait begin', 'Gait end', 'RS', 'LL', 'LS', '1010',\n",
        "       '33281'], dtype=object)"
      ],
      "metadata": {
        "id": "-YdFPn_pLTZv"
      }
    },
    {
      "cell_type": "code",
      "source": [
        "specific_event = np.argwhere(events=='RS')[:,0] # Selecionando a primeira coluna\n",
        "                                                # para termos o vetor dos indices\n",
        "\n",
        "\n",
        "specific_event = specific_event/fs  # Converter o indice para tempo\n",
        "print(specific_event)"
      ],
      "metadata": {
        "colab": {
          "base_uri": "https://localhost:8080/"
        },
        "id": "VLKFxRviLS0A",
        "outputId": "e6a89582-4284-4047-b27d-50b85dc7faf8"
      },
      "execution_count": 48,
      "outputs": [
        {
          "output_type": "stream",
          "name": "stdout",
          "text": [
            "[  7.5  23.5  41.5  77.5 144.5 177.5 186.  275.5 284.  327.5 373. ]\n"
          ]
        }
      ]
    },
    {
      "cell_type": "markdown",
      "source": [
        "### Tipos de Filtros (Funções):"
      ],
      "metadata": {
        "id": "jhNg0NXZ08o1"
      }
    },
    {
      "cell_type": "markdown",
      "source": [
        "Por praticidade, já foram criadas as funções de aplicações de filtro logo abaixo. As funções criadas e os parâmetros estritamente necessários são:\n",
        "\n",
        "\n",
        "\n",
        "*   low_filter(signal,N,fc,Fs)\n",
        "*   high_filter(signal,N,fc,Fs)\n",
        "*   bandpass_filter(signal,N,f_low,f_high)\n",
        "*   bandstop_filter(signal,N,f_low,f_high)\n",
        "*   notch_filter(signal,Fs)\n",
        "\n"
      ],
      "metadata": {
        "id": "WYoW4ZWzDg3T"
      }
    },
    {
      "cell_type": "code",
      "source": [
        "def low_filter(signal, N,fc,Fs,filter_type='butter',max_ripple=3):\n",
        "  \"\"\"\n",
        "  Entradas\n",
        "  -signal: array do sinal no formato [tempo,]\n",
        "  -N: ordem do filtro\n",
        "  -fc: frequência de corte do filtro\n",
        "  -Fs: frequência de amostragem\n",
        "  -filter_type: tipo do filtro (butterworth, chebyshev, elíptico ou bessel)\n",
        "  -max_ripple: ripple máximo para os filtros chebyshev e elípticos\n",
        "\n",
        "  Saídas\n",
        "  -filtered: array do sinal filtrado no formato [tempo,]\n",
        "  \"\"\"\n",
        "  match filter_type:\n",
        "    case 'butter':\n",
        "      b,a = butter(N,fc,'low',fs=Fs)\n",
        "    case 'cheby':\n",
        "      b,a = cheby1(N,max_ripple,fc,'low',fs=Fs)\n",
        "    case 'bessel':\n",
        "      b,a = bessel(N,fc,'low',fs=Fs,norm='mag')\n",
        "    case 'ellip':\n",
        "      b,a = ellip(N,max_ripple,max_ripple,fc,'low',fs=Fs)\n",
        "\n",
        "  filtered = filtfilt(b,a,signal,padlen=16)\n",
        "  return filtered\n",
        "\n",
        "def high_filter(signal,N,fc,Fs,filter_type='butter',max_ripple=3):\n",
        "  \"\"\"\n",
        "  Entradas\n",
        "  -signal: array do sinal no formato [tempo,]\n",
        "  -N: ordem do filtro\n",
        "  -fc: frequência de corte do filtro\n",
        "  -Fs: frequência de amostragem\n",
        "  -filter_type: tipo do filtro (butterworth, chebyshev, elíptico ou bessel)\n",
        "  -max_ripple: ripple máximo para os filtros chebyshev e elípticos\n",
        "\n",
        "  Saídas\n",
        "  -filtered: array do sinal filtrado no formato [tempo,]\n",
        "  \"\"\"\n",
        "  match filter_type:\n",
        "    case 'butter':\n",
        "      b,a = butter(N,fc,'high',fs=Fs)\n",
        "    case 'cheby':\n",
        "      b,a = cheby1(N,max_ripple,fc,'high',fs=Fs)\n",
        "    case 'bessel':\n",
        "      b,a = bessel(N,fc,'high',fs=Fs,norm='mag')\n",
        "    case 'ellip':\n",
        "      b,a = ellip(N,max_ripple,max_ripple,fc,'high',fs=Fs)\n",
        "\n",
        "  filtered = filtfilt(b,a,signal,padlen=16)\n",
        "  return filtered\n",
        "\n",
        "def bandpass_filter(signal,N,f_low,f_high,Fs,filter_type='butter',max_ripple=3):\n",
        "  \"\"\"\n",
        "  Entradas\n",
        "  -signal: array do sinal no formato [tempo,]\n",
        "  -N: ordem do filtro\n",
        "  -f_low: frequência mínima do passa-banda\n",
        "  -f_high: frequência máxima do passa-banda\n",
        "  -Fs: frequência de amostragem\n",
        "  -filter_type: tipo do filtro (butterworth, chebyshev, elíptico ou bessel)\n",
        "  -max_ripple: ripple máximo para os filtros chebyshev e elípticos\n",
        "\n",
        "  Saídas\n",
        "  -filtered: array do sinal filtrado no formato [tempo,]\n",
        "  \"\"\"\n",
        "  match filter_type:\n",
        "    case 'butter':\n",
        "      b,a = butter(N,[f_low,f_high],'bandpass',fs=Fs)\n",
        "    case 'cheby':\n",
        "      b,a = cheby1(N,max_ripple,[f_low,f_high],'bandpass',fs=Fs)\n",
        "    case 'bessel':\n",
        "      b,a = bessel(N,[f_low,f_high],'bandpass',fs=Fs,norm='mag')\n",
        "    case 'ellip':\n",
        "      b,a = ellip(N,max_ripple,max_ripple,[f_low,f_high],'bandpass',fs=Fs)\n",
        "\n",
        "  filtered = filtfilt(b,a,signal,padlen=16)\n",
        "  return filtered\n",
        "\n",
        "def bandstop_filter(signal,N,f_low,f_high,Fs,filter_type='butter',f_notch=60,Q=30,max_ripple=3):\n",
        "  \"\"\"\n",
        "  Entradas\n",
        "  -signal: array do sinal no formato [tempo,]\n",
        "  -N: ordem do filtro\n",
        "  -f_low: frequência mínima do rejeita-banda\n",
        "  -f_high: frequência máxima do rejeita-banda\n",
        "  -Fs: frequência de amostragem\n",
        "  -filter_type: tipo do filtro (butterworth, chebyshev, elíptico ou bessel)\n",
        "  -max_ripple: ripple máximo para os filtros chebyshev e elípticos\n",
        "\n",
        "  Saídas\n",
        "  -filtered: array do sinal filtrado no formato [tempo,]\n",
        "  \"\"\"\n",
        "  match filter_type:\n",
        "    case 'butter':\n",
        "      b,a = butter(N,[f_low,f_high],'bandstop',fs=Fs)\n",
        "    case 'cheby':\n",
        "      b,a = cheby1(N,max_ripple,[f_low,f_high],'bandstop',fs=Fs)\n",
        "    case 'bessel':\n",
        "      b,a = bessel(N,[f_low,f_high],'bandstop',fs=Fs,norm='mag')\n",
        "    case 'ellip':\n",
        "      b,a = ellip(N,max_ripple,max_ripple,[f_low,f_high],'bandstop',fs=Fs)\n",
        "\n",
        "  filtered = filtfilt(b,a,signal,padlen=16)\n",
        "  return filtered\n",
        "\n",
        "\n",
        "def notch_filter(signal,Fs,Q=20,fc=60):\n",
        "  \"\"\"\n",
        "  Entradas\n",
        "  -signal: array do sinal no formato [tempo,]\n",
        "  -Q: fator de qualidade do filtro notch\n",
        "  -Fs: frequência de amostragem\n",
        "  -fc: frequência de corte do filtro\n",
        "\n",
        "  Saídas\n",
        "  -filtered: array do sinal filtrado no formato [tempo,]\n",
        "  \"\"\"\n",
        "  b,a = iirnotch(fc,Q,Fs)\n",
        "  filtered = filtfilt(b,a,signal,padlen=16)\n",
        "  return filtered\n",
        "\n",
        "\n",
        "def psd_plot(signal,Fs,f_min=.5,f_max=400):\n",
        "  \"\"\"\n",
        "  Entradas\n",
        "  -signal: array do sinal no formato [tempo,]\n",
        "  -N: ordem do filtro\n",
        "  -Fs: frequência de amostragem\n",
        "  -f_min: menor frequência a ser visualizada\n",
        "  -f_max: maior frequência a ser visualizada\n",
        "\n",
        "  Saídas\n",
        "  -Plot da PSD do sinal\n",
        "  \"\"\"\n",
        "  freq_psd, original_psd = welch(signal,Fs) # Calcula PSD usando método de\n",
        "                                            # Welch\n",
        "\n",
        "  idx_min = np.where(freq_psd>f_min)[0][0]\n",
        "  idx_max = np.where(freq_psd<f_max)[0][-1]\n",
        "\n",
        "  plt.plot(freq_psd[idx_min:idx_max],original_psd[idx_min:idx_max])\n",
        "  plt.xlabel('Frequency [Hz]')\n",
        "  plt.ylabel('Power [V²/Hz]')\n"
      ],
      "metadata": {
        "id": "zLmaCgM_00FZ"
      },
      "execution_count": 41,
      "outputs": []
    },
    {
      "cell_type": "markdown",
      "source": [
        "### Imputs necessarios para a pratica:"
      ],
      "metadata": {
        "id": "dUu11nxJ1bKH"
      }
    },
    {
      "cell_type": "markdown",
      "source": [
        "Abaixo já estão os parâmetros que são estritamente necessários e o que eles significam"
      ],
      "metadata": {
        "id": "DOyA1k8yEouk"
      }
    },
    {
      "cell_type": "code",
      "source": [
        "# Parâmetros\n",
        "N = 4 # Ordem dos filtros\n",
        "fc = 200 # Frequência de corte\n",
        "freq_low = 20 # Frequência mínima da banda\n",
        "freq_high = 200 # Frequência máxima da banda"
      ],
      "metadata": {
        "id": "CrIKt_BWzEPn"
      },
      "execution_count": 42,
      "outputs": []
    },
    {
      "cell_type": "markdown",
      "source": [
        "Aqui é como se aplica as funções acima. Neste exemplo foi aplicado um passa-banda bem padrão de EMG (N=4, banda de passagem: 20-200 Hz). Mas experimente alterar o tipo de filtro e os parâmetros que geralmente já possuem um valor definido.\n",
        "\n",
        "---\n",
        "\n",
        "**[Pergunta:] por que utilizamos uma frequência máxima de banda de passagem como sendo 200 Hz ao invés de 500 Hz, como foi apresentado em aula?**"
      ],
      "metadata": {
        "id": "w8ifHgGoFsBf"
      }
    },
    {
      "cell_type": "markdown",
      "source": [
        "### Filtros Base:"
      ],
      "metadata": {
        "id": "nBWlLzIF1wrt"
      }
    },
    {
      "cell_type": "code",
      "source": [
        "emg_filtered = bandpass_filter(emg1,N=N,f_low=freq_low,f_high=freq_high,Fs=fs)\n",
        "\n",
        "\n",
        "emg_filtered = notch_filter(emg_filtered,Fs=fs)"
      ],
      "metadata": {
        "id": "KzOTyVePuWAR"
      },
      "execution_count": 43,
      "outputs": []
    },
    {
      "cell_type": "markdown",
      "source": [
        "## Visualização Gráfica:"
      ],
      "metadata": {
        "id": "xxy_f0J_2vO4"
      }
    },
    {
      "cell_type": "markdown",
      "source": [
        "Agora que temos o sinal filtrado, vamos visualizar como o sinal ficou tanto no domínio do tempo quanto no da frequência. Para visualização no domínio da frequência, só precisa utilizar a função *psd_plot()* que ela já calcula a [PSD](https://en.wikipedia.org/wiki/Spectral_density)"
      ],
      "metadata": {
        "id": "wwILEDxrHf7F"
      }
    },
    {
      "cell_type": "code",
      "source": [
        "plt.figure(figsize=(20,5))\n",
        "plt.suptitle('Visualização dos resultados')\n",
        "\n",
        "plt.subplot(121)\n",
        "plt.plot(time,emg_filtered, label='EMG 1')\n",
        "plt.vlines(specific_event, ymin=emg_filtered.min(),\n",
        "           ymax=emg_filtered.max(), label='Audio RL',\n",
        "           color='orange')\n",
        "plt.xlabel('Time [s]')\n",
        "plt.ylabel('Amplitude [mV]')\n",
        "plt.title('Sinal no tempo')\n",
        "plt.legend()\n",
        "\n",
        "plt.subplot(122)\n",
        "psd_plot(emg_filtered,Fs=fs)\n",
        "plt.title('Sinal na frequência')\n",
        "\n",
        "plt.show()"
      ],
      "metadata": {
        "colab": {
          "base_uri": "https://localhost:8080/",
          "height": 452
        },
        "id": "2YrQCoeju6rB",
        "outputId": "28ed42d3-3e1e-4fbb-aeb2-45c0c1abfe5d"
      },
      "execution_count": 44,
      "outputs": [
        {
          "output_type": "display_data",
          "data": {
            "text/plain": [
              "<Figure size 2000x500 with 2 Axes>"
            ],
            "image/png": "[encoded data removed]"
          },
          "metadata": {}
        }
      ]
    },
    {
      "cell_type": "markdown",
      "source": [
        "# Exercícios extras"
      ],
      "metadata": {
        "id": "6YvGUxmyJktN"
      }
    },
    {
      "cell_type": "markdown",
      "source": [
        "**Resolva os exercícios criando células de código dentro desta seção**"
      ],
      "metadata": {
        "id": "ZvzdIw8qQaJa"
      }
    },
    {
      "cell_type": "markdown",
      "source": [
        "Aqui alguns exercícios para exercitar a lógica de processamento de dados. Eles são opcionais, mas é altamente recomendado tentar resolver (e isso pode ajudar na consideração no momento de correção da prova)."
      ],
      "metadata": {
        "id": "xCA4GVv_JyRF"
      }
    },
    {
      "cell_type": "markdown",
      "source": [
        "Tente resolver estes exercícios sem pedir ajuda, mas caso não consiga, sinta-se livrar para enviar mensagem para os monitores e a pedir ajuda com isso durante as monitorias\n",
        "\n",
        "*   Selecionar apenas os segmentos referentes a marcha e filtrar o segmento médio\n",
        "*   Selecionar apenas os segmentos referentes a marcha, elevar ao quadrado e filtrar o segmento quadrático médio\n",
        "*   Tirar a raiz quadrada do segmento quadrático médio, obtendo o segmento RMS\n",
        "*   Passar o RMS por um filtro passa baixa de 2ª ordem e com frequência de corte de 6 Hz\n",
        "*   Plotar o resultado do filtro passa baixa junto do segmento médio original\n",
        "*   Explicar o que você obteve\n",
        "\n",
        "\n",
        "Sugestões de funções:  [*np.mean()*](https://numpy.org/doc/stable/reference/generated/numpy.mean.html); [*np.square()*](https://numpy.org/doc/stable/reference/generated/numpy.square.html); [*np.sqrt()*](https://numpy.org/doc/stable/reference/generated/numpy.sqrt.html)\n",
        "\n",
        "\n",
        "\n",
        "\n",
        "\n"
      ],
      "metadata": {
        "id": "ulBo2d7uJuHK"
      }
    }
  ]
}